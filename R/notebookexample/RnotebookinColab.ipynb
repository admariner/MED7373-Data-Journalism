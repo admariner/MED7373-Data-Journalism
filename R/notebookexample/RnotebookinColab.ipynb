{
  "nbformat": 4,
  "nbformat_minor": 0,
  "metadata": {
    "colab": {
      "provenance": [],
      "toc_visible": true
    },
    "kernelspec": {
      "name": "ir",
      "display_name": "R"
    },
    "language_info": {
      "name": "R"
    }
  },
  "cells": [
    {
      "cell_type": "markdown",
      "source": [
        "# An introduction to R and coding (MED7373 Data Journalism notes)\n",
        "\n",
        "This notebook documents the code used in the MED7373 Data Journalism class workshop introducing R.\n",
        "\n",
        "Specifically it covers how to run R in a Colab notebook inside Google Drive - this is a useful alternative if you're unable to install RStudio on the machine you're using for work.\n",
        "\n",
        "Normally Colab notebooks run the Python programming languages, but [this blog post](https://towardsdatascience.com/how-to-use-r-in-google-colab-b6e02d736497) outlines two ways you can use R instead:\n",
        "\n",
        "* The first is to use a Python library called `rpy2`;\n",
        "* The second is to \"start the notebook in the R runtime\". That basically just means tell Colab you want to run R instead of Python.\n",
        "\n",
        "We are going to use that second method.\n",
        "\n",
        "To do that, the post says, go to this URL: https://colab.research.google.com/#create=true&language=r.\n",
        "\n",
        "That should open a new notebook in R mode.\n",
        "\n",
        "Another way of doing it (thanks to [some more googling](https://stackoverflow.com/questions/54595285/how-to-use-r-with-google-colaboratory)) is to go to the **Runtime** menu, select *Change runtime type*, then change the dropdown menu at the top from Python3 to R. Then click **Save**.\n",
        "\n",
        "Now that your notebook is running in R, we can write and run some R code."
      ],
      "metadata": {
        "id": "Qav4-xqsSAsl"
      }
    },
    {
      "cell_type": "markdown",
      "source": [
        "## Introducing variables\n",
        "\n",
        "We start by introducing **variables**. A variable is something you create in R to hold some information. It can be anything from a single number or word to an enormous table.\n",
        "\n",
        "The key point of a variable is that they can *vary*: you can change a variable (for example, increasing an age by 1 or adding a row to a table).\n",
        "\n",
        "To create a variable you give it a name and then **assign** it a value using the `<-` characters. Anything to the right of those characters will be used to create the value.\n",
        "\n",
        "In the code chunk below we create two variables. The first contains a **string** of **characters** (text) and the second contains a number. Strings and numbers are the two most common **classes** of object in R and programming generally.\n",
        "\n",
        "I've added a **comment** before each line of code. Each comment starts with a hash sign which means the line doesn't 'run' like normal lines of code."
      ],
      "metadata": {
        "id": "Uk8Z02huSV-h"
      }
    },
    {
      "cell_type": "code",
      "execution_count": 1,
      "metadata": {
        "id": "EoXQZXmx47EH"
      },
      "outputs": [],
      "source": [
        "#create a character variable\n",
        "thisismyname <- \"Paul\"\n",
        "#create a numeric variable\n",
        "thisismyage <- 24"
      ]
    },
    {
      "cell_type": "markdown",
      "source": [
        "Note that the string needs to have quotation marks, but numbers do not.\n",
        "\n",
        "To run the code, click on the round 'play' button that appears on the left when you hover over the code block above.\n",
        "\n",
        "Once those two lines of code have been run then you should see a green tick appear to the left of the button.\n",
        "\n",
        "You should also see a number appear in square brackets next to that when you're not hovering over the code block. That tells you what order the block of code was run in (i.e. `[1]` means it was run first. If you run a block more than once then that will be reflected in the number)."
      ],
      "metadata": {
        "id": "fI4pfdZJUImM"
      }
    },
    {
      "cell_type": "markdown",
      "source": [
        "## Using the `print()` command to check your variables\n",
        "\n",
        "Now, if you were running this code in RStudio the variables would appear in the **Environment** in the upper right corner of RStudio. This is how you know it's worked.\n",
        "\n",
        "However, in a Colab R notebook there's no area to see your variables like this, so you'll need to use a `print()` command if you want to check it worked.\n",
        "\n",
        "The `print()` command will print the contents of a variable, like so:"
      ],
      "metadata": {
        "id": "2R9GsS-DVB7X"
      }
    },
    {
      "cell_type": "code",
      "source": [
        "#print the contents of the variable named\n",
        "print(thisismyname)\n",
        "#print another\n",
        "print(thisismyage)"
      ],
      "metadata": {
        "colab": {
          "base_uri": "https://localhost:8080/"
        },
        "id": "X9rLA1GoSmmI",
        "outputId": "003ad08c-c093-45ce-c6e3-8545ce189b69"
      },
      "execution_count": 2,
      "outputs": [
        {
          "output_type": "stream",
          "name": "stdout",
          "text": [
            "[1] \"Paul\"\n",
            "[1] 24\n"
          ]
        }
      ]
    },
    {
      "cell_type": "markdown",
      "source": [
        "## Listing all the variable names\n",
        "\n",
        "There is another command you can use, too, which will list *all* variables (but not their contents). That is `ls()`"
      ],
      "metadata": {
        "id": "L57XQDUrVqMq"
      }
    },
    {
      "cell_type": "code",
      "source": [
        "#use the ls() command to list all the variables that exist at the moment\n",
        "ls()"
      ],
      "metadata": {
        "colab": {
          "base_uri": "https://localhost:8080/",
          "height": 34
        },
        "id": "T7R5v89vVpD5",
        "outputId": "e7a6f19b-17be-422e-a6a7-1fff91dcd2b1"
      },
      "execution_count": 3,
      "outputs": [
        {
          "output_type": "display_data",
          "data": {
            "text/html": [
              "<style>\n",
              ".list-inline {list-style: none; margin:0; padding: 0}\n",
              ".list-inline>li {display: inline-block}\n",
              ".list-inline>li:not(:last-child)::after {content: \"\\00b7\"; padding: 0 .5ex}\n",
              "</style>\n",
              "<ol class=list-inline><li>'thisismyage'</li><li>'thisismyname'</li></ol>\n"
            ],
            "text/markdown": "1. 'thisismyage'\n2. 'thisismyname'\n\n\n",
            "text/latex": "\\begin{enumerate*}\n\\item 'thisismyage'\n\\item 'thisismyname'\n\\end{enumerate*}\n",
            "text/plain": [
              "[1] \"thisismyage\"  \"thisismyname\""
            ]
          },
          "metadata": {}
        }
      ]
    },
    {
      "cell_type": "markdown",
      "source": [
        "## Checking the class of a variable\n",
        "\n",
        "We can check the class of a variable using `class()`, putting the name of the variable inside the brackets. Below we check the class of the two variables we created."
      ],
      "metadata": {
        "id": "dhIwLs82V6yC"
      }
    },
    {
      "cell_type": "code",
      "source": [
        "#check the class of each variable\n",
        "class(thisismyname)\n",
        "class(thisismyage)"
      ],
      "metadata": {
        "colab": {
          "base_uri": "https://localhost:8080/",
          "height": 52
        },
        "id": "GBMRADrNV-Ej",
        "outputId": "ec51d67d-3d95-4e18-a051-83b445c24ff1"
      },
      "execution_count": 4,
      "outputs": [
        {
          "output_type": "display_data",
          "data": {
            "text/html": [
              "'character'"
            ],
            "text/markdown": "'character'",
            "text/latex": "'character'",
            "text/plain": [
              "[1] \"character\""
            ]
          },
          "metadata": {}
        },
        {
          "output_type": "display_data",
          "data": {
            "text/html": [
              "'numeric'"
            ],
            "text/markdown": "'numeric'",
            "text/latex": "'numeric'",
            "text/plain": [
              "[1] \"numeric\""
            ]
          },
          "metadata": {}
        }
      ]
    },
    {
      "cell_type": "markdown",
      "source": [
        "Note that the type of class an object is determines that you can do with it. Obviously you cannot perform mathematical calculations with character class objects, but you also cannot combine numbers with text. This is what happens when you try to do that:\n"
      ],
      "metadata": {
        "id": "O_ZxDpDyWBO2"
      }
    },
    {
      "cell_type": "code",
      "source": [
        "#attempt to add the two variables together\n",
        "thisismyname+thisismyage"
      ],
      "metadata": {
        "colab": {
          "base_uri": "https://localhost:8080/",
          "height": 107
        },
        "id": "EdFFXhQ0WCwa",
        "outputId": "17c3dfa6-cf99-4b43-945b-51e5d79d7989"
      },
      "execution_count": 5,
      "outputs": [
        {
          "output_type": "error",
          "ename": "ERROR",
          "evalue": "ignored",
          "traceback": [
            "Error in thisismyname + thisismyage: non-numeric argument to binary operator\nTraceback:\n"
          ]
        }
      ]
    },
    {
      "cell_type": "markdown",
      "source": [
        "We get an error. If we want to combine text and numbers, we'll have to convert one of them (turning a number into text, or vice versa).\n",
        "\n",
        "## Data objects in R\n",
        "\n",
        "R works with a number of different types of **data object**, so you may come across references to working with different types in literature and tutorials, but the two main ones you need to know about are **data frames** and **vectors**.\n",
        "\n",
        "When you import data into R using the most commonly used methods it will create a data frame variable. It's just a type of table.\n",
        "\n",
        "A vector, meanwhile, is a type of list where all the items are the same type of data.\n",
        "\n",
        "**Each column of a data frame is a vector**. This means it will decide whether to treat all values in a column as numbers, or text, or perhaps Booleans (`TRUE` or `FALSE` values).\n",
        "\n",
        "Unlike tables in Excel, or even data frames in Python, you cannot have a column with text *and* numbers. If you do, R will convert the numbers into text - a process called **coercion**. If that's a problem, there are ways of fixing it, but we won't cover it here."
      ],
      "metadata": {
        "id": "K4vsemRVWFED"
      }
    },
    {
      "cell_type": "markdown",
      "source": [
        "## Using functions\n",
        "\n",
        "Like Excel, programming languages have built-in functions. We've used one already - `class()`. Others include `mean()` and `sum()`\n",
        "\n",
        "Two useful functions when dealing with data are `read.csv()`, and `summary()` - we'll use them next.\n",
        "\n",
        "First, we need some data.\n",
        "\n"
      ],
      "metadata": {
        "id": "QPmtw-gBWVPf"
      }
    },
    {
      "cell_type": "markdown",
      "source": [
        "## Importing data\n",
        "\n",
        "Go to https://www.theipsa.org.uk/mp-staffing-business-costs/annual-publications and download the two most recent CSV files for MPs' expenses - you'll find them under the 'Individual Business Costs' section.\n",
        "\n",
        "They will need to be in the same folder as your R notebook.\n",
        "\n",
        "As we are working on Google Colab, our R notebook is actually on a remote server somewhere in Googleland - and if we want to work with files we need to upload them to the same server.\n",
        "\n",
        "To do that, **open up the Files area on the right side of the notebook**.\n",
        "\n",
        "This can be done by clicking on the folder icon on the right (underneath the magnifying glass).\n",
        "\n",
        "This should expand the left side of the screen to reveal the file structure of the remote server. At the top is a folder with an up arrow on it, and underneath that a folder called `sample_data`. Don't touch either of those folders, because we want to stay where we are, in the same folder.\n",
        "\n",
        "At the top is a button you can click to upload files (or you can just drag and drop). Click on that button and upload the CSV file you just downloaded.\n",
        "\n",
        "Now we can import one using the `read.csv()` function, storing it in a new variable, and use the `summary()` function to get an overview of it."
      ],
      "metadata": {
        "id": "TZCYR9I_X2q4"
      }
    },
    {
      "cell_type": "code",
      "source": [
        "#import the file at the given location, and put it in a variable\n",
        "expensesdf <- read.csv(\"individualBusinessCosts_23_24.csv\")\n",
        "#run the summary() function on that variable\n",
        "summary(expensesdf)"
      ],
      "metadata": {
        "colab": {
          "base_uri": "https://localhost:8080/",
          "height": 788
        },
        "id": "UglzKnWVXuSf",
        "outputId": "6fae3cae-0785-4dfc-a00c-73d270eadb76"
      },
      "execution_count": 6,
      "outputs": [
        {
          "output_type": "display_data",
          "data": {
            "text/plain": [
              " Parliamentary.ID     Year               Date           Claim.Number      \n",
              " Min.   :   8     Length:31094       Length:31094       Length:31094      \n",
              " 1st Qu.:3996     Class :character   Class :character   Class :character  \n",
              " Median :4438     Mode  :character   Mode  :character   Mode  :character  \n",
              " Mean   :3786                                                             \n",
              " 3rd Qu.:4738                                                             \n",
              " Max.   :4981                                                             \n",
              "     Name           Constituency         Category          Cost.Type        \n",
              " Length:31094       Length:31094       Length:31094       Length:31094      \n",
              " Class :character   Class :character   Class :character   Class :character  \n",
              " Mode  :character   Mode  :character   Mode  :character   Mode  :character  \n",
              "                                                                            \n",
              "                                                                            \n",
              "                                                                            \n",
              " Short.Description    Details          Journey.Type           From          \n",
              " Length:31094       Length:31094       Length:31094       Length:31094      \n",
              " Class :character   Class :character   Class :character   Class :character  \n",
              " Mode  :character   Mode  :character   Mode  :character   Mode  :character  \n",
              "                                                                            \n",
              "                                                                            \n",
              "                                                                            \n",
              "      To               Travel              Nights           Mileage       \n",
              " Length:31094       Length:31094       Min.   : 0.0000   Min.   :   0.00  \n",
              " Class :character   Class :character   1st Qu.: 0.0000   1st Qu.:   0.00  \n",
              " Mode  :character   Mode  :character   Median : 0.0000   Median :   0.00  \n",
              "                                       Mean   : 0.0659   Mean   :  10.94  \n",
              "                                       3rd Qu.: 0.0000   3rd Qu.:   0.00  \n",
              "                                       Max.   :11.0000   Max.   :1439.00  \n",
              " Amount.Claimed      Amount.Paid      Amount.Not.Paid    Amount.Repaid      \n",
              " Min.   :-2500.00   Min.   :-2500.0   Min.   :  0.0000   Min.   :  0.00000  \n",
              " 1st Qu.:   14.52   1st Qu.:   14.5   1st Qu.:  0.0000   1st Qu.:  0.00000  \n",
              " Median :   48.92   Median :   48.9   Median :  0.0000   Median :  0.00000  \n",
              " Mean   :  243.00   Mean   :  243.0   Mean   :  0.0421   Mean   :  0.01118  \n",
              " 3rd Qu.:  139.17   3rd Qu.:  139.1   3rd Qu.:  0.0000   3rd Qu.:  0.00000  \n",
              " Max.   :14400.00   Max.   :14400.0   Max.   :570.0000   Max.   :231.84000  \n",
              "    Status          Reason.If.Not.Paid Supply.Month   Supply.Period\n",
              " Length:31094       Length:31094       Mode:logical   Min.   :0    \n",
              " Class :character   Class :character   NA's:31094     1st Qu.:0    \n",
              " Mode  :character   Mode  :character                  Median :0    \n",
              "                                                      Mean   :0    \n",
              "                                                      3rd Qu.:0    \n",
              "                                                      Max.   :0    "
            ]
          },
          "metadata": {}
        }
      ]
    },
    {
      "cell_type": "markdown",
      "source": [
        "## Reading the output of summary()\n",
        "\n",
        "There's a lot of information generated by that `summary()` function. For each column it gives us an overview:\n",
        "\n",
        "* If the column is numeric it gives us the minimum, maximum, mean, median values and the values for the first and third quartile.\n",
        "* If the column contains text values it gives us the number of items (`Length`) and the type of column (**character**)."
      ],
      "metadata": {
        "id": "vjZVu4OTX4rh"
      }
    },
    {
      "cell_type": "markdown",
      "source": [
        "## Drilling down to one column\n",
        "\n",
        "We can also apply these functions to an individual column - or *field*, as it's sometimes called.\n",
        "\n",
        "You can drill down to specific columns in a data frame by adding a `$` sign after the data frame name, and then typing the column name. Helpfully, as soon as you type `$` after a data frame, RStudio will bring up a list of column names.\n",
        "\n",
        "Below we apply the `summary()` function to get a summary of just one column, and the `class()` function to find out what class another column is."
      ],
      "metadata": {
        "id": "ZbkjqjrGX7OU"
      }
    },
    {
      "cell_type": "code",
      "source": [
        "#show a summary of the Amount.Claimed column\n",
        "summary(expensesdf$Amount.Claimed)\n",
        "#show the class of the Category column\n",
        "class(expensesdf$Category)"
      ],
      "metadata": {
        "colab": {
          "base_uri": "https://localhost:8080/",
          "height": 71
        },
        "id": "0pX1mTTAX8tI",
        "outputId": "5b5959ca-98ea-409b-abdb-a91e50731e09"
      },
      "execution_count": 7,
      "outputs": [
        {
          "output_type": "display_data",
          "data": {
            "text/plain": [
              "    Min.  1st Qu.   Median     Mean  3rd Qu.     Max. \n",
              "-2500.00    14.52    48.92   243.00   139.17 14400.00 "
            ]
          },
          "metadata": {}
        },
        {
          "output_type": "display_data",
          "data": {
            "text/html": [
              "'character'"
            ],
            "text/markdown": "'character'",
            "text/latex": "'character'",
            "text/plain": [
              "[1] \"character\""
            ]
          },
          "metadata": {}
        }
      ]
    },
    {
      "cell_type": "markdown",
      "source": [
        "\n",
        "## Columns are **vectors**\n",
        "\n",
        "Note that `class()` here tells us the class of the information *inside* the column.\n",
        "\n",
        "But the column itself is a type of object called a **vector**.\n",
        "\n",
        "A vector is just a type of list: in our data frame each column is a list (vector) of items.\n",
        "\n",
        "We can confirm this by using another function: `is.vector()`"
      ],
      "metadata": {
        "id": "fA8w1xyVYBD-"
      }
    },
    {
      "cell_type": "code",
      "source": [
        "#check if an object is a vector\n",
        "is.vector(expensesdf$Year)"
      ],
      "metadata": {
        "colab": {
          "base_uri": "https://localhost:8080/",
          "height": 34
        },
        "id": "YsKed9jBYCF7",
        "outputId": "853e7d2f-26c7-4280-a710-346f0f5bc9e2"
      },
      "execution_count": 8,
      "outputs": [
        {
          "output_type": "display_data",
          "data": {
            "text/html": [
              "TRUE"
            ],
            "text/markdown": "TRUE",
            "text/latex": "TRUE",
            "text/plain": [
              "[1] TRUE"
            ]
          },
          "metadata": {}
        }
      ]
    },
    {
      "cell_type": "markdown",
      "source": [
        "\n",
        "## Generating a table of unique values\n",
        "\n",
        "For a better overview of a column of text (or **character vector** in the jargon of R), we can use the `table()` function.\n"
      ],
      "metadata": {
        "id": "dqlRtAcVYDmF"
      }
    },
    {
      "cell_type": "code",
      "source": [
        "#generate a table of unique values in one column\n",
        "table(expensesdf$Category)"
      ],
      "metadata": {
        "colab": {
          "base_uri": "https://localhost:8080/",
          "height": 109
        },
        "id": "SaF4XkbIYEmv",
        "outputId": "5a9eed39-1844-440a-d2e7-dbbdcffe78a3"
      },
      "execution_count": 9,
      "outputs": [
        {
          "output_type": "display_data",
          "data": {
            "text/plain": [
              "\n",
              "   Accommodation Dependant Travel    Miscellaneous        MP Travel \n",
              "            2021              371               14            10389 \n",
              "    Office Costs     Staff Travel         Staffing \n",
              "           12074             5229              996 "
            ]
          },
          "metadata": {}
        }
      ]
    },
    {
      "cell_type": "markdown",
      "source": [
        "This works like a pivot table: it will count how many entries there are for each unique value in the column.\n",
        "\n",
        "## Storing a table as a data frame\n",
        "\n",
        "We can store the results of that in a new variable - but it will not be a data frame.\n",
        "\n",
        "To change it to a data frame we can use another function - `data.frame()` - below is the code showing how that can be done.\n"
      ],
      "metadata": {
        "id": "170XVdpPYGZR"
      }
    },
    {
      "cell_type": "code",
      "source": [
        "#generate a table of unique values in one column\n",
        "pivotbycategory <- table(expensesdf$Category)\n",
        "#convert it to a data table\n",
        "pivotbycategory <- data.frame(pivotbycategory)"
      ],
      "metadata": {
        "id": "pBZBDcfOYIQr"
      },
      "execution_count": 10,
      "outputs": []
    },
    {
      "cell_type": "markdown",
      "source": [
        "Again, we will need `print()` if you want to check it worked. And when we print it, we can see it looks different to the table version, organised into two columns with their own names."
      ],
      "metadata": {
        "id": "2Y0IE1dYYOZC"
      }
    },
    {
      "cell_type": "code",
      "source": [
        "#print the new data frame variable\n",
        "print(pivotbycategory)"
      ],
      "metadata": {
        "colab": {
          "base_uri": "https://localhost:8080/"
        },
        "id": "712RC9YGYRSM",
        "outputId": "8b6b4add-4d77-4e1f-caf5-9a3488b33b27"
      },
      "execution_count": 11,
      "outputs": [
        {
          "output_type": "stream",
          "name": "stdout",
          "text": [
            "              Var1  Freq\n",
            "1    Accommodation  2021\n",
            "2 Dependant Travel   371\n",
            "3    Miscellaneous    14\n",
            "4        MP Travel 10389\n",
            "5     Office Costs 12074\n",
            "6     Staff Travel  5229\n",
            "7         Staffing   996\n"
          ]
        }
      ]
    },
    {
      "cell_type": "markdown",
      "source": [
        "\n",
        "## Merging two CSV files\n",
        "\n",
        "R is especially useful for merging multiple datasets together. Let's now do that with the expenses data.\n",
        "\n",
        "First, we need to import a second CSV into a second data frame variable. The code is the same as when we imported the first CSV, but two elements need to change: the location of the CSV; and the name of the variable (otherwise we would overwrite our previous variable)."
      ],
      "metadata": {
        "id": "Du8vyIWDYf9T"
      }
    },
    {
      "cell_type": "code",
      "source": [
        "#import the file at the given location, and put it in a variable\n",
        "expensesbefore <- read.csv(\"individualBusinessCosts_22_23.csv\")"
      ],
      "metadata": {
        "id": "yzS9sglcYkSC"
      },
      "execution_count": 12,
      "outputs": []
    },
    {
      "cell_type": "markdown",
      "source": [
        "\n",
        "Now we have two data frames - we need a function to merge them. The function `rbind()` will combine two data frames, one on top of the other.\n",
        "\n",
        "Here's how to use it to create a new variable:"
      ],
      "metadata": {
        "id": "gdZt-T45Yl4k"
      }
    },
    {
      "cell_type": "code",
      "source": [
        "#combine the two data frames and store in a new variable\n",
        "bothyearsexpenses <- rbind(expensesbefore, expensesdf)"
      ],
      "metadata": {
        "id": "M8KelpnoYnSi"
      },
      "execution_count": 13,
      "outputs": []
    },
    {
      "cell_type": "markdown",
      "source": [
        "\n",
        "## Export a data frame as a new CSV\n",
        "\n",
        "Once we've finished working in R, we will probably want to export a data frame so we can work with it in a spreadsheet, or share it. The `write.csv()` function will do that. It needs two ingredients: the name of the data frame variable; and a string (i.e. it needs to be in quotes) indicating the name you want to give to the new file.\n",
        "\n",
        "Note that the CSV file can be given any name - just make sure it ends in .csv\n"
      ],
      "metadata": {
        "id": "k18tVt1ZYqNM"
      }
    },
    {
      "cell_type": "code",
      "source": [
        "#write a CSV file from our variable\n",
        "write.csv(bothyearsexpenses,\"alltheexpenses.csv\")"
      ],
      "metadata": {
        "id": "ocjvJQ0SYsbd"
      },
      "execution_count": 14,
      "outputs": []
    },
    {
      "cell_type": "markdown",
      "source": [
        "## Download that data frame from Colab\n",
        "\n",
        "If we did this in RStudio, the new CSV file would appear in the same folder as our project and we could use it with other software on our computer, such as Excel.\n",
        "\n",
        "But in Colab, we are working on a remote server so the file is *also* on that remote server, and needs to be downloaded from there to our own computer.\n",
        "\n",
        "We can do this manually, or with code.\n",
        "\n",
        "To do it manually, move your mouse to the Files area in Colab and hover over the file you want to download. To the right of it you should see three dots - click on those to open a new menu that gives you options to, among other things, **Download** the file.\n",
        "\n",
        "If you can't see the file, try refreshing the Files area by clicking the refresh icon above that area (the button next to the upload icon).\n",
        "\n",
        "There is [a way to initiate a download with code, too](https://stackoverflow.com/questions/66654687/how-to-download-in-a-colab-r-notebook-a-remote-dataset-from-github), but we won't do that here."
      ],
      "metadata": {
        "id": "tLlh705YYvgg"
      }
    },
    {
      "cell_type": "markdown",
      "source": [
        "\n",
        "## Using functions from a package\n",
        "\n",
        "All the functions we've used so far are **built in** to R - these are called **base R** functions.\n",
        "\n",
        "But we can also access lots of other functions by importing a **package** of functions.\n",
        "\n",
        "Note: these are called **libraries** in Python and JavaScript, and even in R circles the terms package and library are [\"sometimes used synonymously\"](https://hbctraining.github.io/Intro-to-R-flipped/lessons/04_introR_packages.html) so if you hear it called a library, that's fine.\n",
        "\n",
        "There are two stages to importing a package in R: first, it needs to be **installed**; and then it needs to be **activated**.\n",
        "\n",
        "To install a package you use the function `install.packages()` with the name of the package in quotation marks inside the brackets. For example `install.packages('ggplot2')` would install the package ggplot, which has lots of functions related to data visualisation.\n",
        "\n",
        "In RStudio the most-used packages come already installed, and [Colab has many pre-installed too](https://towardsdatascience.com/how-to-install-packages-in-r-google-colab-423e8928cd2e).\n",
        "\n",
        "The function to activate a package is `library()` - below we activate a library called `readr` which has functions relating to importing and exporting data. As it's already installed in Colab, we don't need to install it first."
      ],
      "metadata": {
        "id": "5mobDp7TaIJR"
      }
    },
    {
      "cell_type": "code",
      "source": [
        "#activate the readr package\n",
        "library('readr')"
      ],
      "metadata": {
        "id": "a9TzTsJRajSI"
      },
      "execution_count": 17,
      "outputs": []
    },
    {
      "cell_type": "markdown",
      "source": [
        "\n",
        "## Using a function from a package\n",
        "\n",
        "Now we've activated that package we can use its functions.\n",
        "\n",
        "One way to do this is to name the package and the function at the same time, with two colons between them. For example if we wanted to use the `read_csv` function from `readr`, which will import a CSV, we could write `readr::read_csv`.\n",
        "\n",
        "Here's a line of code using that function instead of the `read.csv` function (note the period instead of underscore) from base R that we used earlier:"
      ],
      "metadata": {
        "id": "qvtN_yzFazLz"
      }
    },
    {
      "cell_type": "code",
      "source": [
        "#import a CSV and store in a variable\n",
        "expensesdf_readr <- readr::read_csv( \"individualBusinessCosts_23_24.csv\")"
      ],
      "metadata": {
        "colab": {
          "base_uri": "https://localhost:8080/"
        },
        "id": "L0u64px5a1D3",
        "outputId": "797ce129-690c-44a4-f519-92dd2fc3466c"
      },
      "execution_count": 18,
      "outputs": [
        {
          "output_type": "stream",
          "name": "stderr",
          "text": [
            "Warning message:\n",
            "“\u001b[1m\u001b[22mOne or more parsing issues, call `problems()` on your data frame for details,\n",
            "e.g.:\n",
            "  dat <- vroom(...)\n",
            "  problems(dat)”\n",
            "\u001b[1mRows: \u001b[22m\u001b[34m31094\u001b[39m \u001b[1mColumns: \u001b[22m\u001b[34m24\u001b[39m\n",
            "\u001b[36m──\u001b[39m \u001b[1mColumn specification\u001b[22m \u001b[36m────────────────────────────────────────────────────────\u001b[39m\n",
            "\u001b[1mDelimiter:\u001b[22m \",\"\n",
            "\u001b[31mchr\u001b[39m (14): Year, Date, Claim Number, Name, Constituency, Category, Cost Type,...\n",
            "\u001b[32mdbl\u001b[39m  (8): Parliamentary ID, Nights, Mileage, Amount Claimed, Amount Paid, Am...\n",
            "\u001b[33mlgl\u001b[39m  (2): Reason If Not Paid, Supply Month\n",
            "\n",
            "\u001b[36mℹ\u001b[39m Use `spec()` to retrieve the full column specification for this data.\n",
            "\u001b[36mℹ\u001b[39m Specify the column types or set `show_col_types = FALSE` to quiet this message.\n"
          ]
        }
      ]
    },
    {
      "cell_type": "markdown",
      "source": [
        "Don't worry too much about the 'warning message': it doesn't mean there's a problem, it just means the package wants to draw your attention to something. In this case it's \"parsing issues\" - in other words, it may have encountered empty cells, or had to convert numbers to text.\n",
        "\n",
        "We don't *have* to include the name of the package. This will work just as well:\n"
      ],
      "metadata": {
        "id": "vRt9neTia3oX"
      }
    },
    {
      "cell_type": "code",
      "source": [
        "#import a CSV and store in a variable\n",
        "expensesdf_readr <- read_csv( \"individualBusinessCosts_23_24.csv\")"
      ],
      "metadata": {
        "colab": {
          "base_uri": "https://localhost:8080/"
        },
        "id": "yeyQB-uva4kf",
        "outputId": "34fce716-b0de-45b5-a8dd-fd1ba9a4b8ff"
      },
      "execution_count": 19,
      "outputs": [
        {
          "output_type": "stream",
          "name": "stderr",
          "text": [
            "Warning message:\n",
            "“\u001b[1m\u001b[22mOne or more parsing issues, call `problems()` on your data frame for details,\n",
            "e.g.:\n",
            "  dat <- vroom(...)\n",
            "  problems(dat)”\n",
            "\u001b[1mRows: \u001b[22m\u001b[34m31094\u001b[39m \u001b[1mColumns: \u001b[22m\u001b[34m24\u001b[39m\n",
            "\u001b[36m──\u001b[39m \u001b[1mColumn specification\u001b[22m \u001b[36m────────────────────────────────────────────────────────\u001b[39m\n",
            "\u001b[1mDelimiter:\u001b[22m \",\"\n",
            "\u001b[31mchr\u001b[39m (14): Year, Date, Claim Number, Name, Constituency, Category, Cost Type,...\n",
            "\u001b[32mdbl\u001b[39m  (8): Parliamentary ID, Nights, Mileage, Amount Claimed, Amount Paid, Am...\n",
            "\u001b[33mlgl\u001b[39m  (2): Reason If Not Paid, Supply Month\n",
            "\n",
            "\u001b[36mℹ\u001b[39m Use `spec()` to retrieve the full column specification for this data.\n",
            "\u001b[36mℹ\u001b[39m Specify the column types or set `show_col_types = FALSE` to quiet this message.\n"
          ]
        }
      ]
    },
    {
      "cell_type": "markdown",
      "source": [
        "\n",
        "Including the function name just makes it clearer both to others and to your future self that this function needs a particular package.\n",
        "\n",
        "Most tutorials won't do this, so don't expect to see this widely, but it's a useful habit to get into in your own coding.\n",
        "\n",
        "It also means you don't actually have to activate the package - as long as it's installed the code will work.\n",
        "\n",
        "Oh, and you might be wondering why you'd use this `read_csv` instead of the `read.csv` function from base R. Well, there are a couple of reasons: one is that `read_csv` is [faster](https://arbor-analytics.com/post/2022-05-19-reading-in-data-quickly-in-r/#:~:text=We%20can%20see%20that%20the,to%20read%20in%20the%20data.); another is that `read.csv` has a tendency to import text columns as a **factor** data type, which most of the time we don't want.\n",
        "\n",
        "\n",
        "## Some useful boilerplate code to adapt\n",
        "\n",
        "One of the reasons to learn code is so that you can use code created by others to solve your own problems. You don't necessarily need to understand exactly how the code works, just enough to make it work for *you*.\n",
        "\n",
        "Here, then, are some more blocks of code you might find useful to adapt."
      ],
      "metadata": {
        "id": "oYJv5wncbN-_"
      }
    },
    {
      "cell_type": "markdown",
      "source": [
        "\n",
        "### Code to combine all the CSVs in your folder into one\n",
        "\n",
        "This code will combine multiple CSV files into one large one. It's very useful if you have files for lots of different time periods (e.g. combining twelve months of CSVs into one year's worth) or different areas (e.g. combining 40 different police force's crime data into a CSV that shows all police forces together).\n",
        "\n",
        "Note that the CSVs you are combining must have the same structure: they must have the same number of columns, and the columns must be in the same order. This code will stack them on top of each other.\n",
        "\n",
        "The code has two parts, because there are two problems to solve here:\n",
        "\n",
        "1. Generate a list of all CSV files\n",
        "2. Combine them into one\n",
        "\n",
        "The first problem is solved by using the `list.files()` function. This will list (in a vector object) all the files in a particular location, but it can also be told to only look for files matching a particular pattern.\n",
        "\n",
        "The code below does this by using something called a **regular expression** to say it only wants to list files that end in \".csv\".\n",
        "\n",
        "The second problem is solved by passing that vector of file names to the `read_csv()` function from the `readr` package, which can handle multiple files. It also includes an extra ingredient, which specifies that you want to add an extra column to each CSV called 'file_name', to store the name of each file."
      ],
      "metadata": {
        "id": "bTd2_jGIbj1V"
      }
    },
    {
      "cell_type": "code",
      "source": [
        "\n",
        "#list all CSV files in the folder\n",
        "list.files(pattern=\"\\\\.csv$\")\n",
        "#now store that as a vector\n",
        "csvfiles <- list.files(pattern=\"\\\\.csv$\")\n",
        "#and combine them\n",
        "#id= names an extra column\n",
        "allcsvs <- readr::read_csv(csvfilenames, id = \"file_name\")"
      ],
      "metadata": {
        "colab": {
          "base_uri": "https://localhost:8080/",
          "height": 363
        },
        "id": "P6fQTZ-cbm60",
        "outputId": "904a1bbb-18ca-4213-bf4c-067c1264011c"
      },
      "execution_count": 22,
      "outputs": [
        {
          "output_type": "display_data",
          "data": {
            "text/html": [
              "<style>\n",
              ".list-inline {list-style: none; margin:0; padding: 0}\n",
              ".list-inline>li {display: inline-block}\n",
              ".list-inline>li:not(:last-child)::after {content: \"\\00b7\"; padding: 0 .5ex}\n",
              "</style>\n",
              "<ol class=list-inline><li>'alltheexpenses.csv'</li><li>'individualBusinessCosts_22_23.csv'</li><li>'individualBusinessCosts_23_24.csv'</li></ol>\n"
            ],
            "text/markdown": "1. 'alltheexpenses.csv'\n2. 'individualBusinessCosts_22_23.csv'\n3. 'individualBusinessCosts_23_24.csv'\n\n\n",
            "text/latex": "\\begin{enumerate*}\n\\item 'alltheexpenses.csv'\n\\item 'individualBusinessCosts\\_22\\_23.csv'\n\\item 'individualBusinessCosts\\_23\\_24.csv'\n\\end{enumerate*}\n",
            "text/plain": [
              "[1] \"alltheexpenses.csv\"                \"individualBusinessCosts_22_23.csv\"\n",
              "[3] \"individualBusinessCosts_23_24.csv\""
            ]
          },
          "metadata": {}
        },
        {
          "output_type": "error",
          "ename": "ERROR",
          "evalue": "ignored",
          "traceback": [
            "Error in eval(expr, envir, enclos): object 'csvfilenames' not found\nTraceback:\n",
            "1. readr::read_csv(csvfilenames, id = \"file_name\")",
            "2. vroom::vroom(file, delim = \",\", col_names = col_names, col_types = col_types, \n .     col_select = {\n .         {\n .             col_select\n .         }\n .     }, id = id, .name_repair = name_repair, skip = skip, n_max = n_max, \n .     na = na, quote = quote, comment = comment, skip_empty_rows = skip_empty_rows, \n .     trim_ws = trim_ws, escape_double = TRUE, escape_backslash = FALSE, \n .     locale = locale, guess_max = guess_max, show_col_types = show_col_types, \n .     progress = progress, altrep = lazy, num_threads = num_threads)",
            "3. standardise_path(file)"
          ]
        }
      ]
    },
    {
      "cell_type": "code",
      "source": [
        "write.csv(allcsvs,\"allcsvs.csv\")"
      ],
      "metadata": {
        "colab": {
          "base_uri": "https://localhost:8080/",
          "height": 254
        },
        "id": "Qu5wyDjWbriu",
        "outputId": "70812d27-505a-4888-9340-a941ffa43da9"
      },
      "execution_count": 23,
      "outputs": [
        {
          "output_type": "error",
          "ename": "ERROR",
          "evalue": "ignored",
          "traceback": [
            "Error in eval(expr, p): object 'allcsvs' not found\nTraceback:\n",
            "1. write.csv(allcsvs, \"allcsvs.csv\")",
            "2. eval.parent(Call)",
            "3. eval(expr, p)",
            "4. eval(expr, p)",
            "5. utils::write.table(allcsvs, \"allcsvs.csv\", col.names = NA, sep = \",\", \n .     dec = \".\", qmethod = \"double\")",
            "6. is.data.frame(x)"
          ]
        }
      ]
    },
    {
      "cell_type": "markdown",
      "source": [
        "We still need to export at the end, so here's a line to do that."
      ],
      "metadata": {
        "id": "RnvyGZZpbows"
      }
    },
    {
      "cell_type": "markdown",
      "source": [
        "\n",
        "### Code to create a very basic chart\n",
        "\n",
        "The final chunk of code generates a basic chart - a histogram - based on the values in one column of a data frame.\n",
        "\n",
        "This uses the chart creation package `ggplot2`, so we activate it in the first line. There's quite a lot going on in the other lines of code, even for a basic chart like this:\n",
        "\n",
        "* First, we use the `ggplot()` function from `ggplot2`, and we give it the data frame that we want to visualise: `expensesdf`\n",
        "* The `+` sign allows us to specify extra information like the type of chart we want to create (these are listed in the documentation and tutorials for this package): `geom_histogram()`\n",
        "* That `geom_histogram()` is essentially another function which needs information about the column in the data frame that it's going to use to create the chart. It does that with `aes(x=Amount.Claimed)`\n",
        "\n",
        "You can adapt this a little bit to work with a different dataframe, and/or a different column (it must be numeric), but to do anything more - including changing colours, chart types, backgrounds and adding labels - you'll need to start learning about the ggplot package by exploring tutorials."
      ],
      "metadata": {
        "id": "9VX-dcE6bvcD"
      }
    },
    {
      "cell_type": "code",
      "source": [
        "\n",
        "#activate the ggplot2 library\n",
        "library(\"ggplot2\")\n",
        "\n",
        "#use the ggplot function with our dataset\n",
        "ggplot2::ggplot(expensesdf) +\n",
        "  geom_histogram(\n",
        "    aes(x=Amount.Claimed))"
      ],
      "metadata": {
        "colab": {
          "base_uri": "https://localhost:8080/",
          "height": 455
        },
        "id": "dsrjA8Hobwi-",
        "outputId": "fae5e28f-290a-48dd-c9c2-f304ac896152"
      },
      "execution_count": 24,
      "outputs": [
        {
          "output_type": "stream",
          "name": "stderr",
          "text": [
            "\u001b[1m\u001b[22m`stat_bin()` using `bins = 30`. Pick better value with `binwidth`.\n"
          ]
        },
        {
          "output_type": "display_data",
          "data": {
            "text/plain": [
              "plot without title"
            ],
            "image/png": "[encoded data removed]"
          },
          "metadata": {
            "image/png": {
              "width": 420,
              "height": 420
            }
          }
        }
      ]
    }
  ]
}